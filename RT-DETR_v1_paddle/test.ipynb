{
 "cells": [
  {
   "cell_type": "code",
   "execution_count": 1,
   "metadata": {},
   "outputs": [
    {
     "name": "stderr",
     "output_type": "stream",
     "text": [
      "grep: warning: GREP_OPTIONS is deprecated; please use an alias or script\n",
      "/root/.local/lib/python3.7/site-packages/setuptools/sandbox.py:13: DeprecationWarning: pkg_resources is deprecated as an API. See https://setuptools.pypa.io/en/latest/pkg_resources.html\n",
      "  import pkg_resources\n",
      "/root/.local/lib/python3.7/site-packages/pkg_resources/__init__.py:2871: DeprecationWarning: Deprecated call to `pkg_resources.declare_namespace('mpl_toolkits')`.\n",
      "Implementing implicit namespace packages (as specified in PEP 420) is preferred to `pkg_resources.declare_namespace`. See https://setuptools.pypa.io/en/latest/references/keywords.html#keyword-namespace-packages\n",
      "  declare_namespace(pkg)\n",
      "/root/.local/lib/python3.7/site-packages/pkg_resources/__init__.py:2871: DeprecationWarning: Deprecated call to `pkg_resources.declare_namespace('google')`.\n",
      "Implementing implicit namespace packages (as specified in PEP 420) is preferred to `pkg_resources.declare_namespace`. See https://setuptools.pypa.io/en/latest/references/keywords.html#keyword-namespace-packages\n",
      "  declare_namespace(pkg)\n"
     ]
    }
   ],
   "source": [
    "from ppdet.utils.colormap import colormap"
   ]
  },
  {
   "cell_type": "code",
   "execution_count": 2,
   "metadata": {},
   "outputs": [],
   "source": [
    "color_list = colormap(rgb=True)[:40]"
   ]
  },
  {
   "cell_type": "code",
   "execution_count": 3,
   "metadata": {},
   "outputs": [
    {
     "data": {
      "text/plain": [
       "array([[  0, 113, 188],\n",
       "       [216,  82,  24],\n",
       "       [236, 176,  31],\n",
       "       [125,  46, 141],\n",
       "       [118, 171,  47],\n",
       "       [ 76, 189, 237],\n",
       "       [161,  19,  46],\n",
       "       [ 76,  76,  76],\n",
       "       [153, 153, 153],\n",
       "       [255,   0,   0],\n",
       "       [255, 127,   0],\n",
       "       [190, 190,   0],\n",
       "       [  0, 255,   0],\n",
       "       [  0,   0, 255],\n",
       "       [170,   0, 255],\n",
       "       [ 84,  84,   0],\n",
       "       [ 84, 170,   0],\n",
       "       [ 84, 255,   0],\n",
       "       [170,  84,   0],\n",
       "       [170, 170,   0],\n",
       "       [170, 255,   0],\n",
       "       [255,  84,   0],\n",
       "       [255, 170,   0],\n",
       "       [255, 255,   0],\n",
       "       [  0,  84, 127],\n",
       "       [  0, 170, 127],\n",
       "       [  0, 255, 127],\n",
       "       [ 84,   0, 127],\n",
       "       [ 84,  84, 127],\n",
       "       [ 84, 170, 127],\n",
       "       [ 84, 255, 127],\n",
       "       [170,   0, 127],\n",
       "       [170,  84, 127],\n",
       "       [170, 170, 127],\n",
       "       [170, 255, 127],\n",
       "       [255,   0, 127],\n",
       "       [255,  84, 127],\n",
       "       [255, 170, 127],\n",
       "       [255, 255, 127],\n",
       "       [  0,  84, 255]], dtype=int32)"
      ]
     },
     "execution_count": 3,
     "metadata": {},
     "output_type": "execute_result"
    }
   ],
   "source": [
    "color_list"
   ]
  }
 ],
 "metadata": {
  "kernelspec": {
   "display_name": "Python 3",
   "language": "python",
   "name": "python3"
  },
  "language_info": {
   "codemirror_mode": {
    "name": "ipython",
    "version": 3
   },
   "file_extension": ".py",
   "mimetype": "text/x-python",
   "name": "python",
   "nbconvert_exporter": "python",
   "pygments_lexer": "ipython3",
   "version": "3.7.14"
  }
 },
 "nbformat": 4,
 "nbformat_minor": 2
}
